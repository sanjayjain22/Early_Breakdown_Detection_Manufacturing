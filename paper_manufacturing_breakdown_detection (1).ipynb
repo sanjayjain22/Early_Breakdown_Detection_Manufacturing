{
  "nbformat": 4,
  "nbformat_minor": 0,
  "metadata": {
    "colab": {
      "name": "paper_manufacturing_breakdown_detection.ipynb",
      "provenance": [],
      "collapsed_sections": []
    },
    "kernelspec": {
      "name": "python3",
      "display_name": "Python 3"
    },
    "accelerator": "TPU"
  },
  "cells": [
    {
      "cell_type": "code",
      "metadata": {
        "id": "eE_IeoiEBG-M",
        "colab_type": "code",
        "cellView": "form",
        "colab": {
          "base_uri": "https://localhost:8080/",
          "height": 51
        },
        "outputId": "99a936e0-b2b8-4164-f505-feef9000d9d7"
      },
      "source": [
        "#@title \n",
        "\n",
        "import tensorflow as tf\n",
        "import keras\n",
        "import pandas as pd\n",
        "from sklearn.preprocessing import StandardScaler\n",
        "from sklearn.model_selection import train_test_split\n",
        "import numpy as np\n",
        "from sklearn.preprocessing import StandardScaler\n",
        "from sklearn import preprocessing\n",
        "from keras.optimizers import SGD\n",
        "\n",
        "from keras.models import Sequential, Model \n",
        "from keras import layers\n",
        "from keras.layers import Dense, Conv1D, MaxPooling1D, Flatten, Dropout, Input, Embedding\n",
        "from keras.layers.merge import Concatenate\n",
        "\n",
        "from keras import backend as K\n",
        "from keras.callbacks import ModelCheckpoint\n",
        "\n",
        "import sklearn\n",
        "from sklearn.metrics import confusion_matrix\n",
        "from sklearn.model_selection import train_test_split\n",
        "\n",
        "import matplotlib.pyplot as plt\n",
        "import seaborn as sns\n",
        "\n",
        "\n",
        "from keras.models import Sequential\n",
        "from keras.layers import Dense, Dropout\n",
        "from keras.layers import Embedding\n",
        "from keras.layers import LSTM\n",
        "\n",
        "from keras.datasets import mnist\n",
        "from keras.models import Sequential\n",
        "from keras.layers import Dense, Dropout, Flatten\n",
        "from keras.layers import Conv2D, MaxPooling2D,Conv1D,GlobalAveragePooling1D\n",
        "from keras import backend as K\n",
        "\n",
        "from sklearn.linear_model import LogisticRegression\n",
        "\n",
        "\n",
        "from sklearn.metrics import confusion_matrix\n",
        "from sklearn.metrics import classification_report\n",
        "\n",
        "\n",
        "from keras.models import Sequential, Model \n",
        "from keras import layers\n",
        "from keras.layers import Dense, Conv1D, MaxPooling1D, Flatten, Dropout, Input, Embedding\n",
        "from keras.layers.merge import Concatenate\n",
        "\n",
        "import pandas as pd\n",
        "import os\n"
      ],
      "execution_count": null,
      "outputs": [
        {
          "output_type": "stream",
          "text": [
            "/usr/local/lib/python3.6/dist-packages/statsmodels/tools/_testing.py:19: FutureWarning: pandas.util.testing is deprecated. Use the functions in the public API at pandas.testing instead.\n",
            "  import pandas.util.testing as tm\n"
          ],
          "name": "stderr"
        }
      ]
    },
    {
      "cell_type": "code",
      "metadata": {
        "id": "_qo4HXFUnsXM",
        "colab_type": "code",
        "colab": {}
      },
      "source": [
        "def one_hot(col_name,df1):\n",
        "  one_hot = pd.get_dummies(df[col_name])\n",
        "  # Drop column B as it is now encoded\n",
        "  df1 = df1.drop(col_name,axis = 1)\n",
        "  # Join the encoded df\n",
        "  df1 = df1.join(one_hot)\n",
        "  return df1\n",
        "\n",
        "\n",
        "def shift(col_name,df1,number):\n",
        "  df1[col_name] = df1[col_name].shift(number)\n",
        "  return df1\n",
        "\n",
        "def split_x_y(df,k):\n",
        "    y = df[k]\n",
        "    x = df\n",
        "    x = x.drop([k], axis = 1)\n",
        "    \n",
        "    return x,y\n",
        "\n",
        "\n",
        "def data_pipeline(df):\n",
        "   \n",
        "    df = one_hot('Grade&Bwt',df)\n",
        "    #df = shift('SheetBreak',df,-1)\n",
        "    df = one_hot('EventPress',df)\n",
        "    #df.drop(df.tail(1).index,inplace=True)\n",
        "\n",
        "    x,y = split_x_y(df2,'SheetBreak')\n",
        "    x.drop(['DateTime'], axis = 1, inplace= True)\n",
        "    \n",
        "    X_train, X_test, y_train, y_test = train_test_split(\n",
        "    x, y, test_size=0.15, random_state= 123) \n",
        "\n",
        "    return X_train, X_test, y_train, y_test \n",
        "\n",
        "def classification_model(model_name,x_train,y_train,x_val,y_val):\n",
        "    model = model_name  \n",
        "    model.fit(x_train, y_train)\n",
        "    y_pred = model.predict(x_val)\n",
        "    \n",
        "    \n",
        "    confusion = confusion_matrix(y_val, y_pred)\n",
        "    print(confusion)\n",
        "    print(classification_report(y_val, y_pred))\n",
        "    print(\"Accuracy is\", model.score(x_val,y_val))\n"
      ],
      "execution_count": null,
      "outputs": []
    },
    {
      "cell_type": "code",
      "metadata": {
        "id": "EdxehmNKBW-E",
        "colab_type": "code",
        "colab": {
          "base_uri": "https://localhost:8080/",
          "height": 34
        },
        "outputId": "b4f917a4-9c84-4cec-96e1-5bd585ef2592"
      },
      "source": [
        "from google.colab import drive\n",
        "drive.mount('/content/drive')"
      ],
      "execution_count": null,
      "outputs": [
        {
          "output_type": "stream",
          "text": [
            "Drive already mounted at /content/drive; to attempt to forcibly remount, call drive.mount(\"/content/drive\", force_remount=True).\n"
          ],
          "name": "stdout"
        }
      ]
    },
    {
      "cell_type": "code",
      "metadata": {
        "id": "1J2E9OOXCfqW",
        "colab_type": "code",
        "colab": {}
      },
      "source": [
        "# In google colab, run the following cell to train your model on TPU."
      ],
      "execution_count": null,
      "outputs": []
    },
    {
      "cell_type": "code",
      "metadata": {
        "id": "q1bCDL7yCeIg",
        "colab_type": "code",
        "colab": {}
      },
      "source": [
        "#Use this below code only when TPU is needed!\n",
        "\n",
        "try:\n",
        "  tpu = tf.distribute.cluster_resolver.TPUClusterResolver()  # TPU detection\n",
        "  print('Running on TPU ', tpu.cluster_spec().as_dict()['worker'])\n",
        "except ValueError:\n",
        "  raise BaseException('ERROR: Not connected to a TPU runtime; please see the previous cell in this notebook for instructions!')\n",
        "\n",
        "tf.config.experimental_connect_to_cluster(tpu)\n",
        "tf.tpu.experimental.initialize_tpu_system(tpu)\n",
        "tpu_strategy = tf.distribute.experimental.TPUStrategy(tpu)\n",
        "\n",
        "\n",
        "\n",
        "resolver = tf.distribute.cluster_resolver.TPUClusterResolver(tpu='grpc://' + os.environ['COLAB_TPU_ADDR'])\n",
        "tf.config.experimental_connect_to_cluster(resolver)\n",
        "# This is the TPU initialization code that has to be at the beginning.\n",
        "tf.tpu.experimental.initialize_tpu_system(resolver)\n",
        "strategy = tf.distribute.experimental.TPUStrategy(resolver)"
      ],
      "execution_count": null,
      "outputs": []
    },
    {
      "cell_type": "code",
      "metadata": {
        "id": "RgHzLSy8rkUQ",
        "colab_type": "code",
        "colab": {}
      },
      "source": [
        "# Curve_shift will effectively shift the Y variable with the desired early prediction time.\n",
        "\n",
        "## ex: if the aim is to predict 2 minutes early, then it will just move up all the one's up by one row and. (Since each row in dataset is at a 2 minute interval) \n",
        "## and it will also delete the original rows with breakdown, since the signal is strongest at the time of breakdown and will distort our model."
      ],
      "execution_count": null,
      "outputs": []
    },
    {
      "cell_type": "code",
      "metadata": {
        "id": "ud0eNVokrcC4",
        "colab_type": "code",
        "colab": {}
      },
      "source": [
        "sign = lambda x: (1, -1)[x < 0]\n",
        "\n",
        "def curve_shift(df, shift_by):\n",
        "    '''\n",
        "    This function will shift the binary labels in a dataframe.\n",
        "    The curve shift will be with respect to the 1s. \n",
        "    For example, if shift is -2, the following process\n",
        "    will happen: if row n is labeled as 1, then\n",
        "    - Make row (n+shift_by):(n+shift_by-1) = 1.\n",
        "    - Remove row n.\n",
        "    i.e. the labels will be shifted up to 2 rows up.\n",
        "    \n",
        "    Inputs:\n",
        "    df       A pandas dataframe with a binary labeled column. \n",
        "             This labeled column should be named as 'y'.\n",
        "    shift_by An integer denoting the number of rows to shift.\n",
        "    \n",
        "    Output\n",
        "    df       A dataframe with the binary labels shifted by shift.\n",
        "    '''\n",
        "    \n",
        "    vector = df['SheetBreak'].copy()\n",
        "    for s in range(abs(shift_by)):\n",
        "        tmp = vector.shift(sign(shift_by))\n",
        "        tmp = tmp.fillna(0)\n",
        "        vector += tmp\n",
        "    labelcol = 'SheetBreak'\n",
        "    # Add vector to the df\n",
        "    df.insert(loc=0, column=labelcol+'tmp', value=vector)\n",
        "    # Remove the rows with labelcol == 1.\n",
        "    df = df.drop(df[df[labelcol] == 1].index)\n",
        "    # Drop labelcol and rename the tmp col as labelcol\n",
        "    df = df.drop(labelcol, axis=1)\n",
        "    df = df.rename(columns={labelcol+'tmp': labelcol})\n",
        "    # Make the labelcol binary\n",
        "    df.loc[df[labelcol] > 0, labelcol] = 1\n",
        "\n",
        "    return df"
      ],
      "execution_count": null,
      "outputs": []
    },
    {
      "cell_type": "code",
      "metadata": {
        "id": "mLUDAcbC-ZR6",
        "colab_type": "code",
        "colab": {}
      },
      "source": [
        "#One hot encoding the categorial variables and splitting the data"
      ],
      "execution_count": null,
      "outputs": []
    },
    {
      "cell_type": "code",
      "metadata": {
        "id": "Nk3spaVB-fkn",
        "colab_type": "code",
        "colab": {}
      },
      "source": [
        "df = pd.read_csv('/content/drive/My Drive/processminer-sheet-break-rare-event-dataset.csv')"
      ],
      "execution_count": null,
      "outputs": []
    },
    {
      "cell_type": "code",
      "metadata": {
        "id": "CMK968TM-nK-",
        "colab_type": "code",
        "colab": {
          "base_uri": "https://localhost:8080/",
          "height": 68
        },
        "outputId": "c2deab0a-5a95-4f11-be7d-509c2acbef86"
      },
      "source": [
        "df['SheetBreak'].value_counts()"
      ],
      "execution_count": null,
      "outputs": [
        {
          "output_type": "execute_result",
          "data": {
            "text/plain": [
              "0    20323\n",
              "1      135\n",
              "Name: SheetBreak, dtype: int64"
            ]
          },
          "metadata": {
            "tags": []
          },
          "execution_count": 7
        }
      ]
    },
    {
      "cell_type": "code",
      "metadata": {
        "id": "HGrzBXNO_AQ3",
        "colab_type": "code",
        "colab": {}
      },
      "source": [
        "df = curve_shift(df,-2)"
      ],
      "execution_count": null,
      "outputs": []
    },
    {
      "cell_type": "code",
      "metadata": {
        "id": "ub2ZhitN_B9f",
        "colab_type": "code",
        "colab": {
          "base_uri": "https://localhost:8080/",
          "height": 68
        },
        "outputId": "36980435-519e-4407-d3e9-b82f98450b58"
      },
      "source": [
        "df['SheetBreak'].value_counts()"
      ],
      "execution_count": null,
      "outputs": [
        {
          "output_type": "execute_result",
          "data": {
            "text/plain": [
              "0.0    20054\n",
              "1.0      269\n",
              "Name: SheetBreak, dtype: int64"
            ]
          },
          "metadata": {
            "tags": []
          },
          "execution_count": 9
        }
      ]
    },
    {
      "cell_type": "code",
      "metadata": {
        "id": "9DVfENJYmKia",
        "colab_type": "code",
        "colab": {}
      },
      "source": [
        "df = one_hot('Grade&Bwt',df)\n",
        "df = one_hot('EventPress',df)"
      ],
      "execution_count": null,
      "outputs": []
    },
    {
      "cell_type": "code",
      "metadata": {
        "id": "bGWEcZuOn0QC",
        "colab_type": "code",
        "colab": {}
      },
      "source": [
        "x,y = split_x_y(df,'SheetBreak')\n",
        "x.drop(['DateTime'], axis = 1, inplace= True)"
      ],
      "execution_count": null,
      "outputs": []
    },
    {
      "cell_type": "code",
      "metadata": {
        "id": "ABcFiqbcn3qH",
        "colab_type": "code",
        "colab": {}
      },
      "source": [
        "\n",
        "#SPLITTING INTO TRAIN AND TEST\n",
        "X_train, X_test, y_train, y_test = train_test_split(\n",
        "x, y, test_size=0.15, random_state= 123, stratify = y) "
      ],
      "execution_count": null,
      "outputs": []
    },
    {
      "cell_type": "code",
      "metadata": {
        "id": "FLy8G5wnn5VH",
        "colab_type": "code",
        "colab": {
          "base_uri": "https://localhost:8080/",
          "height": 68
        },
        "outputId": "ac8dcf72-7c15-4fdf-e860-b26ce42026b8"
      },
      "source": [
        "y_train.value_counts()"
      ],
      "execution_count": null,
      "outputs": [
        {
          "output_type": "execute_result",
          "data": {
            "text/plain": [
              "0.0    17045\n",
              "1.0      229\n",
              "Name: SheetBreak, dtype: int64"
            ]
          },
          "metadata": {
            "tags": []
          },
          "execution_count": 13
        }
      ]
    },
    {
      "cell_type": "code",
      "metadata": {
        "id": "ar7FCeJ3n9g6",
        "colab_type": "code",
        "colab": {
          "base_uri": "https://localhost:8080/",
          "height": 68
        },
        "outputId": "4f35fe1f-cf69-481f-afa7-3dd7bd629b92"
      },
      "source": [
        "y_test.value_counts()"
      ],
      "execution_count": null,
      "outputs": [
        {
          "output_type": "execute_result",
          "data": {
            "text/plain": [
              "0.0    3009\n",
              "1.0      40\n",
              "Name: SheetBreak, dtype: int64"
            ]
          },
          "metadata": {
            "tags": []
          },
          "execution_count": 14
        }
      ]
    },
    {
      "cell_type": "code",
      "metadata": {
        "id": "UwJODE25n_0a",
        "colab_type": "code",
        "colab": {}
      },
      "source": [
        "# Standardized the data, as standardized data is very important for neural networks., which leads to faster convergence of the loss function.\n",
        "scaler = preprocessing.StandardScaler()\n",
        "X_train = scaler.fit_transform(X_train)\n",
        "#X_valid = scaler.transform(X_valid)\n",
        "X_test = scaler.transform(X_test)"
      ],
      "execution_count": null,
      "outputs": []
    },
    {
      "cell_type": "code",
      "metadata": {
        "id": "o3odxDSkoRFE",
        "colab_type": "code",
        "colab": {
          "base_uri": "https://localhost:8080/",
          "height": 51
        },
        "outputId": "9d3c2b2f-eedb-4f33-c48f-4f182a44afd0"
      },
      "source": [
        "#CHECKPOINTING THE MODEL IS ALSO REALLY IMPORTANT\n",
        "checkpoint = ModelCheckpoint(\"/content/DL4.h5\", monitor='loss', verbose=1,\n",
        "    save_best_only=True, mode='auto', period=1)"
      ],
      "execution_count": null,
      "outputs": [
        {
          "output_type": "stream",
          "text": [
            "WARNING:tensorflow:`period` argument is deprecated. Please use `save_freq` to specify the frequency in number of batches seen.\n"
          ],
          "name": "stdout"
        },
        {
          "output_type": "stream",
          "text": [
            "WARNING:tensorflow:`period` argument is deprecated. Please use `save_freq` to specify the frequency in number of batches seen.\n"
          ],
          "name": "stderr"
        }
      ]
    },
    {
      "cell_type": "code",
      "metadata": {
        "id": "A3tEpiS44irz",
        "colab_type": "code",
        "colab": {
          "base_uri": "https://localhost:8080/",
          "height": 255
        },
        "outputId": "04ce2721-94ac-4e14-8697-81342666b8fd"
      },
      "source": [
        "model.summary()"
      ],
      "execution_count": null,
      "outputs": [
        {
          "output_type": "stream",
          "text": [
            "Model: \"sequential_5\"\n",
            "_________________________________________________________________\n",
            "Layer (type)                 Output Shape              Param #   \n",
            "=================================================================\n",
            "dense_15 (Dense)             (None, 12)                828       \n",
            "_________________________________________________________________\n",
            "dense_16 (Dense)             (None, 8)                 104       \n",
            "_________________________________________________________________\n",
            "dense_17 (Dense)             (None, 1)                 9         \n",
            "=================================================================\n",
            "Total params: 941\n",
            "Trainable params: 941\n",
            "Non-trainable params: 0\n",
            "_________________________________________________________________\n"
          ],
          "name": "stdout"
        }
      ]
    },
    {
      "cell_type": "code",
      "metadata": {
        "id": "HFzGDf29oBiM",
        "colab_type": "code",
        "colab": {
          "base_uri": "https://localhost:8080/",
          "height": 1000
        },
        "outputId": "78d10db7-c234-4ea8-c7d9-dfdbffc3a280"
      },
      "source": [
        "#Sample model\n",
        "with strategy.scope():\n",
        "  model = Sequential()\n",
        "  model.add(Dense(16, input_dim=68, activation='relu'))\n",
        "  model.add(Dense(12, activation='relu'))\n",
        "  model.add(Dense(1, activation='sigmoid'))\n",
        "  # compile the keras model\n",
        "  model.compile(loss='binary_crossentropy', optimizer='adam', metrics=['accuracy'])\n",
        "  # fit the keras model on the dataset\n",
        "  model.fit(X_train, y_train, epochs=50, batch_size=128, callbacks = [checkpoint] , validation_data= (X_test,y_test))"
      ],
      "execution_count": null,
      "outputs": [
        {
          "output_type": "stream",
          "text": [
            "Epoch 1/50\n",
            "  1/135 [..............................] - ETA: 1:07 - loss: 0.7018 - accuracy: 0.4922WARNING:tensorflow:Callbacks method `on_train_batch_end` is slow compared to the batch time (batch time: 0.0017s vs `on_train_batch_end` time: 0.0155s). Check your callbacks.\n"
          ],
          "name": "stdout"
        },
        {
          "output_type": "stream",
          "text": [
            "WARNING:tensorflow:Callbacks method `on_train_batch_end` is slow compared to the batch time (batch time: 0.0017s vs `on_train_batch_end` time: 0.0155s). Check your callbacks.\n"
          ],
          "name": "stderr"
        },
        {
          "output_type": "stream",
          "text": [
            "132/135 [============================>.] - ETA: 0s - loss: 0.2121 - accuracy: 0.9412WARNING:tensorflow:Callbacks method `on_test_batch_end` is slow compared to the batch time (batch time: 0.0014s vs `on_test_batch_end` time: 0.0140s). Check your callbacks.\n"
          ],
          "name": "stdout"
        },
        {
          "output_type": "stream",
          "text": [
            "WARNING:tensorflow:Callbacks method `on_test_batch_end` is slow compared to the batch time (batch time: 0.0014s vs `on_test_batch_end` time: 0.0140s). Check your callbacks.\n"
          ],
          "name": "stderr"
        },
        {
          "output_type": "stream",
          "text": [
            "135/135 [==============================] - 4s 30ms/step - loss: 0.2088 - accuracy: 0.9422 - val_loss: 0.0740 - val_accuracy: 0.9869\n",
            "Epoch 2/50\n",
            "135/135 [==============================] - 3s 21ms/step - loss: 0.0721 - accuracy: 0.9867 - val_loss: 0.0680 - val_accuracy: 0.9869\n",
            "Epoch 3/50\n",
            "135/135 [==============================] - 3s 20ms/step - loss: 0.0683 - accuracy: 0.9867 - val_loss: 0.0657 - val_accuracy: 0.9869\n",
            "Epoch 4/50\n",
            "135/135 [==============================] - 3s 20ms/step - loss: 0.0663 - accuracy: 0.9867 - val_loss: 0.0653 - val_accuracy: 0.9869\n",
            "Epoch 5/50\n",
            "135/135 [==============================] - 3s 20ms/step - loss: 0.0648 - accuracy: 0.9867 - val_loss: 0.0646 - val_accuracy: 0.9869\n",
            "Epoch 6/50\n",
            "135/135 [==============================] - 3s 20ms/step - loss: 0.0634 - accuracy: 0.9867 - val_loss: 0.0645 - val_accuracy: 0.9869\n",
            "Epoch 7/50\n",
            "135/135 [==============================] - 3s 20ms/step - loss: 0.0624 - accuracy: 0.9867 - val_loss: 0.0646 - val_accuracy: 0.9869\n",
            "Epoch 8/50\n",
            "135/135 [==============================] - 3s 20ms/step - loss: 0.0617 - accuracy: 0.9867 - val_loss: 0.0645 - val_accuracy: 0.9869\n",
            "Epoch 9/50\n",
            "135/135 [==============================] - 3s 20ms/step - loss: 0.0608 - accuracy: 0.9867 - val_loss: 0.0640 - val_accuracy: 0.9866\n",
            "Epoch 10/50\n",
            "135/135 [==============================] - 3s 20ms/step - loss: 0.0604 - accuracy: 0.9867 - val_loss: 0.0639 - val_accuracy: 0.9869\n",
            "Epoch 11/50\n",
            "135/135 [==============================] - 3s 20ms/step - loss: 0.0596 - accuracy: 0.9868 - val_loss: 0.0639 - val_accuracy: 0.9866\n",
            "Epoch 12/50\n",
            "135/135 [==============================] - 3s 19ms/step - loss: 0.0592 - accuracy: 0.9867 - val_loss: 0.0645 - val_accuracy: 0.9869\n",
            "Epoch 13/50\n",
            "135/135 [==============================] - 3s 20ms/step - loss: 0.0586 - accuracy: 0.9868 - val_loss: 0.0636 - val_accuracy: 0.9866\n",
            "Epoch 14/50\n",
            "135/135 [==============================] - 3s 20ms/step - loss: 0.0580 - accuracy: 0.9869 - val_loss: 0.0630 - val_accuracy: 0.9869\n",
            "Epoch 15/50\n",
            "135/135 [==============================] - 3s 20ms/step - loss: 0.0575 - accuracy: 0.9868 - val_loss: 0.0643 - val_accuracy: 0.9866\n",
            "Epoch 16/50\n",
            "135/135 [==============================] - 3s 20ms/step - loss: 0.0569 - accuracy: 0.9868 - val_loss: 0.0635 - val_accuracy: 0.9866\n",
            "Epoch 17/50\n",
            "135/135 [==============================] - 3s 20ms/step - loss: 0.0566 - accuracy: 0.9869 - val_loss: 0.0639 - val_accuracy: 0.9869\n",
            "Epoch 18/50\n",
            "135/135 [==============================] - 3s 20ms/step - loss: 0.0561 - accuracy: 0.9868 - val_loss: 0.0626 - val_accuracy: 0.9866\n",
            "Epoch 19/50\n",
            "135/135 [==============================] - 3s 21ms/step - loss: 0.0554 - accuracy: 0.9868 - val_loss: 0.0622 - val_accuracy: 0.9866\n",
            "Epoch 20/50\n",
            "135/135 [==============================] - 3s 20ms/step - loss: 0.0548 - accuracy: 0.9869 - val_loss: 0.0625 - val_accuracy: 0.9869\n",
            "Epoch 21/50\n",
            "135/135 [==============================] - 3s 20ms/step - loss: 0.0545 - accuracy: 0.9869 - val_loss: 0.0620 - val_accuracy: 0.9869\n",
            "Epoch 22/50\n",
            "135/135 [==============================] - 3s 20ms/step - loss: 0.0543 - accuracy: 0.9870 - val_loss: 0.0628 - val_accuracy: 0.9869\n",
            "Epoch 23/50\n",
            "135/135 [==============================] - 3s 20ms/step - loss: 0.0536 - accuracy: 0.9870 - val_loss: 0.0632 - val_accuracy: 0.9869\n",
            "Epoch 24/50\n",
            "135/135 [==============================] - 3s 20ms/step - loss: 0.0533 - accuracy: 0.9871 - val_loss: 0.0621 - val_accuracy: 0.9869\n",
            "Epoch 25/50\n",
            "135/135 [==============================] - 3s 20ms/step - loss: 0.0526 - accuracy: 0.9870 - val_loss: 0.0635 - val_accuracy: 0.9866\n",
            "Epoch 26/50\n",
            "135/135 [==============================] - 3s 20ms/step - loss: 0.0523 - accuracy: 0.9870 - val_loss: 0.0642 - val_accuracy: 0.9869\n",
            "Epoch 27/50\n",
            "135/135 [==============================] - 3s 20ms/step - loss: 0.0521 - accuracy: 0.9870 - val_loss: 0.0621 - val_accuracy: 0.9872\n",
            "Epoch 28/50\n",
            "135/135 [==============================] - 3s 21ms/step - loss: 0.0517 - accuracy: 0.9870 - val_loss: 0.0613 - val_accuracy: 0.9869\n",
            "Epoch 29/50\n",
            "135/135 [==============================] - 3s 20ms/step - loss: 0.0506 - accuracy: 0.9871 - val_loss: 0.0612 - val_accuracy: 0.9872\n",
            "Epoch 30/50\n",
            "135/135 [==============================] - 3s 20ms/step - loss: 0.0507 - accuracy: 0.9870 - val_loss: 0.0614 - val_accuracy: 0.9869\n",
            "Epoch 31/50\n",
            "135/135 [==============================] - 3s 20ms/step - loss: 0.0500 - accuracy: 0.9871 - val_loss: 0.0622 - val_accuracy: 0.9875\n",
            "Epoch 32/50\n",
            "135/135 [==============================] - 3s 20ms/step - loss: 0.0495 - accuracy: 0.9873 - val_loss: 0.0618 - val_accuracy: 0.9872\n",
            "Epoch 33/50\n",
            "135/135 [==============================] - 3s 20ms/step - loss: 0.0491 - accuracy: 0.9873 - val_loss: 0.0604 - val_accuracy: 0.9875\n",
            "Epoch 34/50\n",
            "135/135 [==============================] - 3s 20ms/step - loss: 0.0489 - accuracy: 0.9872 - val_loss: 0.0622 - val_accuracy: 0.9872\n",
            "Epoch 35/50\n",
            "135/135 [==============================] - 3s 20ms/step - loss: 0.0483 - accuracy: 0.9873 - val_loss: 0.0620 - val_accuracy: 0.9869\n",
            "Epoch 36/50\n",
            "135/135 [==============================] - 3s 20ms/step - loss: 0.0477 - accuracy: 0.9873 - val_loss: 0.0636 - val_accuracy: 0.9872\n",
            "Epoch 37/50\n",
            "135/135 [==============================] - 3s 20ms/step - loss: 0.0473 - accuracy: 0.9873 - val_loss: 0.0632 - val_accuracy: 0.9872\n",
            "Epoch 38/50\n",
            "135/135 [==============================] - 3s 20ms/step - loss: 0.0468 - accuracy: 0.9875 - val_loss: 0.0626 - val_accuracy: 0.9872\n",
            "Epoch 39/50\n",
            "135/135 [==============================] - 3s 20ms/step - loss: 0.0463 - accuracy: 0.9872 - val_loss: 0.0648 - val_accuracy: 0.9869\n",
            "Epoch 40/50\n",
            "135/135 [==============================] - 3s 20ms/step - loss: 0.0462 - accuracy: 0.9873 - val_loss: 0.0642 - val_accuracy: 0.9872\n",
            "Epoch 41/50\n",
            "135/135 [==============================] - 3s 20ms/step - loss: 0.0460 - accuracy: 0.9873 - val_loss: 0.0657 - val_accuracy: 0.9866\n",
            "Epoch 42/50\n",
            "135/135 [==============================] - 3s 20ms/step - loss: 0.0455 - accuracy: 0.9875 - val_loss: 0.0644 - val_accuracy: 0.9869\n",
            "Epoch 43/50\n",
            "135/135 [==============================] - 3s 21ms/step - loss: 0.0453 - accuracy: 0.9876 - val_loss: 0.0639 - val_accuracy: 0.9872\n",
            "Epoch 44/50\n",
            "135/135 [==============================] - 3s 21ms/step - loss: 0.0447 - accuracy: 0.9875 - val_loss: 0.0637 - val_accuracy: 0.9866\n",
            "Epoch 45/50\n",
            "135/135 [==============================] - 3s 21ms/step - loss: 0.0447 - accuracy: 0.9877 - val_loss: 0.0640 - val_accuracy: 0.9862\n",
            "Epoch 46/50\n",
            "135/135 [==============================] - 3s 20ms/step - loss: 0.0443 - accuracy: 0.9878 - val_loss: 0.0634 - val_accuracy: 0.9866\n",
            "Epoch 47/50\n",
            "135/135 [==============================] - 3s 20ms/step - loss: 0.0441 - accuracy: 0.9879 - val_loss: 0.0683 - val_accuracy: 0.9859\n",
            "Epoch 48/50\n",
            "135/135 [==============================] - 3s 20ms/step - loss: 0.0436 - accuracy: 0.9878 - val_loss: 0.0639 - val_accuracy: 0.9862\n",
            "Epoch 49/50\n",
            "135/135 [==============================] - 3s 20ms/step - loss: 0.0428 - accuracy: 0.9877 - val_loss: 0.0645 - val_accuracy: 0.9869\n",
            "Epoch 50/50\n",
            "135/135 [==============================] - 3s 20ms/step - loss: 0.0432 - accuracy: 0.9878 - val_loss: 0.0638 - val_accuracy: 0.9866\n"
          ],
          "name": "stdout"
        }
      ]
    },
    {
      "cell_type": "code",
      "metadata": {
        "id": "1uE_ajjH6nWv",
        "colab_type": "code",
        "colab": {}
      },
      "source": [
        "train_predictions_baseline = model.predict(X_train, batch_size= 128)\n",
        "test_predictions_baseline = model.predict(X_test, batch_size= 128)"
      ],
      "execution_count": null,
      "outputs": []
    },
    {
      "cell_type": "code",
      "metadata": {
        "id": "sai3Ui_06oLT",
        "colab_type": "code",
        "colab": {}
      },
      "source": [
        "def plot_cm(labels, predictions, p=0.05):\n",
        "  cm = confusion_matrix(labels, predictions > p)\n",
        "  plt.figure(figsize=(5,5))\n",
        "  sns.heatmap(cm, annot=True, fmt=\"d\")\n",
        "  plt.title('Confusion matrix @{:.2f}'.format(p))\n",
        "  plt.ylabel('Actual label')\n",
        "  plt.xlabel('Predicted label')\n",
        "\n",
        "  print('Non Breakdowns correctly identified (True Negatives): ', cm[0][0])\n",
        "  print('Non Breakdowns Detected as Breakdowns  (False Positives): ', cm[0][1])\n",
        "  print('Machine Breakdowns Missed (False Negatives): ', cm[1][0])\n",
        "  print('Machine Breakdowns Detected (True Positives): ', cm[1][1])\n",
        "  print('Total Sheet Breaks: ', np.sum(cm[1]))"
      ],
      "execution_count": null,
      "outputs": []
    },
    {
      "cell_type": "code",
      "metadata": {
        "id": "r63FVUl86rRh",
        "colab_type": "code",
        "colab": {
          "base_uri": "https://localhost:8080/",
          "height": 85
        },
        "outputId": "f3faede1-f102-4f76-e3af-2f8b59b10242"
      },
      "source": [
        "baseline_results = model.evaluate(X_test, y_test,\n",
        "                                  batch_size= 128, verbose=0)\n",
        "for name, value in zip(model.metrics_names, baseline_results):\n",
        "  print(name, ': ', value)\n",
        "  print()"
      ],
      "execution_count": null,
      "outputs": [
        {
          "output_type": "stream",
          "text": [
            "loss :  0.0638393983244896\n",
            "\n",
            "accuracy :  0.9865530133247375\n",
            "\n"
          ],
          "name": "stdout"
        }
      ]
    },
    {
      "cell_type": "code",
      "metadata": {
        "id": "O5A6w68F6vff",
        "colab_type": "code",
        "colab": {
          "base_uri": "https://localhost:8080/",
          "height": 503
        },
        "outputId": "2939c994-c924-4452-ce42-c9f930c7700e"
      },
      "source": [
        "baseline_results = model.evaluate(X_test, y_test,\n",
        "                                  batch_size= 128, verbose=0)\n",
        "for name, value in zip(model.metrics_names, baseline_results):\n",
        "  print(name, ': ', value)\n",
        "  print()\n",
        "\n",
        "plot_cm(y_test, test_predictions_baseline) "
      ],
      "execution_count": null,
      "outputs": [
        {
          "output_type": "stream",
          "text": [
            "loss :  0.0638393983244896\n",
            "\n",
            "accuracy :  0.9865530133247375\n",
            "\n",
            "Non Breakdowns correctly identified (True Negatives):  2880\n",
            "Non Breakdowns Detected as Breakdowns  (False Positives):  129\n",
            "Machine Breakdowns Missed (False Negatives):  24\n",
            "Machine Breakdowns Detected (True Positives):  16\n",
            "Total Sheet Breaks:  40\n"
          ],
          "name": "stdout"
        },
        {
          "output_type": "display_data",
          "data": {
            "image/png": "[encoded data removed]",
            "text/plain": [
              "<Figure size 360x360 with 2 Axes>"
            ]
          },
          "metadata": {
            "tags": [],
            "needs_background": "light"
          }
        }
      ]
    },
    {
      "cell_type": "code",
      "metadata": {
        "id": "WStsqVas7JR0",
        "colab_type": "code",
        "colab": {}
      },
      "source": [
        "# with a Recall of 67% and a precision of 11% this model can result in significant savings for the paper industry."
      ],
      "execution_count": null,
      "outputs": []
    }
  ]
}